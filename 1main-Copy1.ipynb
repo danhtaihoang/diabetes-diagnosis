{
 "cells": [
  {
   "cell_type": "markdown",
   "metadata": {},
   "source": [
    "## Expectation Reflection for Diabetes Diagnosis\n",
    "In this work, we apply our method, Expectation Reflection (ER), to predict diabetes from Pima Indians Diabetes dataset. We compare the performance of ER with other existing methods such as Logistic Regression, Naive Bayes, and Random Forest."
   ]
  },
  {
   "cell_type": "code",
   "execution_count": 1,
   "metadata": {},
   "outputs": [],
   "source": [
    "import numpy as np\n",
    "import pandas as pd\n",
    "\n",
    "from sklearn.model_selection import train_test_split\n",
    "from sklearn.model_selection import KFold\n",
    "from sklearn.metrics import accuracy_score\n",
    "\n",
    "from sklearn.linear_model import LogisticRegression\n",
    "from sklearn.naive_bayes import GaussianNB, BernoulliNB, MultinomialNB\n",
    "from sklearn.ensemble import RandomForestClassifier\n",
    "\n",
    "from inference import fit\n",
    "\n",
    "import matplotlib.pyplot as plt\n",
    "%matplotlib inline"
   ]
  },
  {
   "cell_type": "code",
   "execution_count": 2,
   "metadata": {},
   "outputs": [],
   "source": [
    "np.random.seed(1)"
   ]
  },
  {
   "cell_type": "code",
   "execution_count": 3,
   "metadata": {
    "scrolled": true
   },
   "outputs": [
    {
     "data": {
      "text/html": [
       "<div>\n",
       "<style scoped>\n",
       "    .dataframe tbody tr th:only-of-type {\n",
       "        vertical-align: middle;\n",
       "    }\n",
       "\n",
       "    .dataframe tbody tr th {\n",
       "        vertical-align: top;\n",
       "    }\n",
       "\n",
       "    .dataframe thead th {\n",
       "        text-align: right;\n",
       "    }\n",
       "</style>\n",
       "<table border=\"1\" class=\"dataframe\">\n",
       "  <thead>\n",
       "    <tr style=\"text-align: right;\">\n",
       "      <th></th>\n",
       "      <th>0</th>\n",
       "      <th>1</th>\n",
       "      <th>2</th>\n",
       "      <th>3</th>\n",
       "      <th>4</th>\n",
       "      <th>5</th>\n",
       "      <th>6</th>\n",
       "      <th>7</th>\n",
       "      <th>8</th>\n",
       "    </tr>\n",
       "  </thead>\n",
       "  <tbody>\n",
       "    <tr>\n",
       "      <th>0</th>\n",
       "      <td>preg</td>\n",
       "      <td>plas</td>\n",
       "      <td>pres</td>\n",
       "      <td>skin</td>\n",
       "      <td>insu</td>\n",
       "      <td>mass</td>\n",
       "      <td>pedi</td>\n",
       "      <td>age</td>\n",
       "      <td>class</td>\n",
       "    </tr>\n",
       "    <tr>\n",
       "      <th>1</th>\n",
       "      <td>6</td>\n",
       "      <td>148</td>\n",
       "      <td>72</td>\n",
       "      <td>35</td>\n",
       "      <td>0</td>\n",
       "      <td>33.6</td>\n",
       "      <td>0.627</td>\n",
       "      <td>50</td>\n",
       "      <td>tested_positive</td>\n",
       "    </tr>\n",
       "    <tr>\n",
       "      <th>2</th>\n",
       "      <td>1</td>\n",
       "      <td>85</td>\n",
       "      <td>66</td>\n",
       "      <td>29</td>\n",
       "      <td>0</td>\n",
       "      <td>26.6</td>\n",
       "      <td>0.351</td>\n",
       "      <td>31</td>\n",
       "      <td>tested_negative</td>\n",
       "    </tr>\n",
       "    <tr>\n",
       "      <th>3</th>\n",
       "      <td>8</td>\n",
       "      <td>183</td>\n",
       "      <td>64</td>\n",
       "      <td>0</td>\n",
       "      <td>0</td>\n",
       "      <td>23.3</td>\n",
       "      <td>0.672</td>\n",
       "      <td>32</td>\n",
       "      <td>tested_positive</td>\n",
       "    </tr>\n",
       "    <tr>\n",
       "      <th>4</th>\n",
       "      <td>1</td>\n",
       "      <td>89</td>\n",
       "      <td>66</td>\n",
       "      <td>23</td>\n",
       "      <td>94</td>\n",
       "      <td>28.1</td>\n",
       "      <td>0.167</td>\n",
       "      <td>21</td>\n",
       "      <td>tested_negative</td>\n",
       "    </tr>\n",
       "  </tbody>\n",
       "</table>\n",
       "</div>"
      ],
      "text/plain": [
       "      0     1     2     3     4     5      6    7                8\n",
       "0  preg  plas  pres  skin  insu  mass   pedi  age            class\n",
       "1     6   148    72    35     0  33.6  0.627   50  tested_positive\n",
       "2     1    85    66    29     0  26.6  0.351   31  tested_negative\n",
       "3     8   183    64     0     0  23.3  0.672   32  tested_positive\n",
       "4     1    89    66    23    94  28.1  0.167   21  tested_negative"
      ]
     },
     "execution_count": 3,
     "metadata": {},
     "output_type": "execute_result"
    }
   ],
   "source": [
    "# load data\n",
    "s = pd.read_csv('diabetes_data.txt',sep= ',', header= None)\n",
    "s.head()"
   ]
  },
  {
   "cell_type": "markdown",
   "metadata": {},
   "source": [
    "The data contains 8 features:<br/>\n",
    "1) preg: Number of times pregnant<br/>\n",
    "2) plas: Plasma glucose concentration at 2 hours in an oral glucose tolerance test (GTT)<br/>\n",
    "3) pres: Diastolic blood pressure (mmHg)<br/>\n",
    "4) skin: Triceps skin fold thickness (mm)<br/>\n",
    "5) insu: 2-Hour serum insulin (mu U/ml)<br/>\n",
    "6) mass: Body Mass Index (weight(kg)/(height(m))^2)<br/>\n",
    "7) pedi: Diabetes Pedigree Function<br/>\n",
    "8) age: Age (years)<br/>\n",
    "\n",
    "and 1 target: tested_positive or tested_negative"
   ]
  },
  {
   "cell_type": "code",
   "execution_count": 4,
   "metadata": {},
   "outputs": [],
   "source": [
    "# select features and target:\n",
    "s = np.array(s)\n",
    "\n",
    "# features:\n",
    "X = s[1:,:8].astype(float)\n",
    "l,n = X.shape\n",
    "\n",
    "# target:\n",
    "y = s[1:,8]\n",
    "# convert target to number\n",
    "letter2number = {'tested_negative':-1,'tested_positive':1}\n",
    "y = np.array([letter2number[y[t]] for t in range(l)])"
   ]
  },
  {
   "cell_type": "code",
   "execution_count": 5,
   "metadata": {},
   "outputs": [
    {
     "name": "stderr",
     "output_type": "stream",
     "text": [
      "/home/tai/anaconda2/lib/python2.7/site-packages/matplotlib/axes/_axes.py:6571: UserWarning: The 'normed' kwarg is deprecated, and has been replaced by the 'density' kwarg.\n",
      "  warnings.warn(\"The 'normed' kwarg is deprecated, and has been \"\n"
     ]
    },
    {
     "data": {
      "image/png": "[encoded data removed]",
      "text/plain": [
       "<Figure size 792x432 with 8 Axes>"
      ]
     },
     "metadata": {
      "needs_background": "light"
     },
     "output_type": "display_data"
    }
   ],
   "source": [
    "plt.figure(figsize=(11,6))\n",
    "\n",
    "features = s[0,:8]\n",
    "for j in range(2):\n",
    "    for i in range(4):\n",
    "        ii = j*4 + i\n",
    "        plt.subplot2grid((2,4),(j,i))\n",
    "        bins = np.linspace(min(X[:,ii]), max(X[:,ii]),10, endpoint=False)\n",
    "        plt.hist(X[:,ii],bins,histtype='bar',rwidth=0.8,normed=True)\n",
    "        plt.title('%s'%features[ii])\n",
    "        plt.tight_layout(h_pad=1, w_pad=1.5)"
   ]
  },
  {
   "cell_type": "markdown",
   "metadata": {},
   "source": [
    "### Impute missing data"
   ]
  },
  {
   "cell_type": "code",
   "execution_count": 6,
   "metadata": {},
   "outputs": [],
   "source": [
    "# impute missing data\n",
    "from sklearn.impute import SimpleImputer\n",
    "#X1 = X[:,1:]\n",
    "#X1 = X[:,:]\n",
    "impute = SimpleImputer(missing_values=0, strategy='mean')\n",
    "impute.fit(X)\n",
    "X = impute.transform(X)"
   ]
  },
  {
   "cell_type": "code",
   "execution_count": 7,
   "metadata": {},
   "outputs": [],
   "source": [
    "#X1.shape\n",
    "X = X[:300]\n",
    "y = y[:300]"
   ]
  },
  {
   "cell_type": "code",
   "execution_count": 8,
   "metadata": {},
   "outputs": [],
   "source": [
    "#X = np.hstack((X[:,0][:,np.newaxis],X1))"
   ]
  },
  {
   "cell_type": "code",
   "execution_count": 9,
   "metadata": {},
   "outputs": [
    {
     "data": {
      "image/png": "[encoded data removed]",
      "text/plain": [
       "<Figure size 792x432 with 8 Axes>"
      ]
     },
     "metadata": {
      "needs_background": "light"
     },
     "output_type": "display_data"
    }
   ],
   "source": [
    "plt.figure(figsize=(11,6))\n",
    "\n",
    "features = s[0,:8]\n",
    "for j in range(2):\n",
    "    for i in range(4):\n",
    "        ii = j*4 + i\n",
    "        plt.subplot2grid((2,4),(j,i))\n",
    "        bins = np.linspace(min(X[:,ii]), max(X[:,ii]),10, endpoint=False)\n",
    "        plt.hist(X[:,ii],bins,histtype='bar',rwidth=0.8,normed=True)\n",
    "        plt.title('%s'%features[ii])\n",
    "        plt.tight_layout(h_pad=1, w_pad=1.5)"
   ]
  },
  {
   "cell_type": "markdown",
   "metadata": {},
   "source": [
    "### Shuffle data"
   ]
  },
  {
   "cell_type": "code",
   "execution_count": 10,
   "metadata": {},
   "outputs": [],
   "source": [
    "from sklearn.utils import shuffle\n",
    "X, y = shuffle(X, y)"
   ]
  },
  {
   "cell_type": "markdown",
   "metadata": {},
   "source": [
    "### Prediction with machine learning algorithms"
   ]
  },
  {
   "cell_type": "code",
   "execution_count": 11,
   "metadata": {},
   "outputs": [],
   "source": [
    "def inference(X,y,kf=5,method='naive_bayes'):     \n",
    "    kfold = KFold(n_splits=kf,shuffle=False,random_state=1)            \n",
    "    accuracy = np.zeros(kf)\n",
    "            \n",
    "    if method == 'logistic_regression':\n",
    "        model = LogisticRegression(solver='newton-cg')\n",
    "\n",
    "    if method == 'naive_bayes': \n",
    "        model = GaussianNB()\n",
    "        #model = BernoulliNB()\n",
    "        #model = MultinomialNB()\n",
    "        \n",
    "    if method == 'random_forest':\n",
    "        model = RandomForestClassifier(criterion = \"gini\", random_state = 1,\n",
    "                               max_depth=3, min_samples_leaf=5,n_estimators=100)        \n",
    "                \n",
    "    for i,(train_index,test_index) in enumerate(kfold.split(y)):\n",
    "        X_train, X_test = X[train_index], X[test_index]\n",
    "        y_train, y_test = y[train_index], y[test_index]\n",
    "\n",
    "        # fit and predict\n",
    "        model.fit(X_train, y_train)\n",
    "        y_pred = model.predict(X_test)\n",
    "        \n",
    "        accuracy[i] = accuracy_score(y_test,y_pred)\n",
    "        #print(accuracy[i])\n",
    "    return accuracy.mean(),accuracy.std()"
   ]
  },
  {
   "cell_type": "code",
   "execution_count": 12,
   "metadata": {},
   "outputs": [],
   "source": [
    "def expectation_reflection_inference(X,y,kf=5,regu=0.005):    \n",
    "    #x_train,x_test,y_train,y_test = train_test_split(X1,y,test_size=0.3,random_state = 100)    \n",
    "    kfold = KFold(n_splits=kf,shuffle=False,random_state=1)\n",
    "    accuracy = np.zeros(kf)\n",
    "    \n",
    "    for i,(train_index,test_index) in enumerate(kfold.split(y)):\n",
    "        X_train, X_test = X[train_index], X[test_index]\n",
    "        y_train, y_test = y[train_index], y[test_index]\n",
    "\n",
    "        # predict with ER\n",
    "        h0,w = fit(X_train,y_train,niter_max=100,regu=0.005)\n",
    "        h_pred = h0 + X_test.dot(w)\n",
    "        y_pred = np.sign(h_pred)\n",
    "        accuracy[i] = accuracy_score(y_test,y_pred)\n",
    "        #print(accuracy[i])\n",
    "    return accuracy.mean(),accuracy.std()"
   ]
  },
  {
   "cell_type": "code",
   "execution_count": 13,
   "metadata": {},
   "outputs": [],
   "source": [
    "kf = 5"
   ]
  },
  {
   "cell_type": "markdown",
   "metadata": {},
   "source": [
    "#### Logistic Regression"
   ]
  },
  {
   "cell_type": "code",
   "execution_count": 14,
   "metadata": {
    "scrolled": true
   },
   "outputs": [
    {
     "name": "stdout",
     "output_type": "stream",
     "text": [
      "('logistic_regression:', 0.71, 0.050110987927909696)\n"
     ]
    }
   ],
   "source": [
    "# logistic_regression\n",
    "accuracy_mean,accuracy_std = inference(X,y,kf,method='logistic_regression')\n",
    "print('logistic_regression:',accuracy_mean,accuracy_std)"
   ]
  },
  {
   "cell_type": "markdown",
   "metadata": {},
   "source": [
    "#### Naive Bayes"
   ]
  },
  {
   "cell_type": "code",
   "execution_count": 15,
   "metadata": {
    "scrolled": false
   },
   "outputs": [
    {
     "name": "stdout",
     "output_type": "stream",
     "text": [
      "('naive_bayes:', 0.7066666666666667, 0.02708012801545322)\n"
     ]
    }
   ],
   "source": [
    "# naive_bayes\n",
    "accuracy_mean,accuracy_std = inference(X,y,kf,method='naive_bayes')\n",
    "print('naive_bayes:',accuracy_mean,accuracy_std)"
   ]
  },
  {
   "cell_type": "markdown",
   "metadata": {},
   "source": [
    "#### Random Forest"
   ]
  },
  {
   "cell_type": "code",
   "execution_count": 16,
   "metadata": {},
   "outputs": [
    {
     "name": "stdout",
     "output_type": "stream",
     "text": [
      "('random_forest:', 0.6966666666666665, 0.04521553322083513)\n"
     ]
    }
   ],
   "source": [
    "# random_forest\n",
    "accuracy_mean,accuracy_std = inference(X,y,kf,method='random_forest')\n",
    "print('random_forest:',accuracy_mean,accuracy_std)"
   ]
  },
  {
   "cell_type": "markdown",
   "metadata": {},
   "source": [
    "#### Expectation Reflection"
   ]
  },
  {
   "cell_type": "code",
   "execution_count": 17,
   "metadata": {},
   "outputs": [
    {
     "name": "stdout",
     "output_type": "stream",
     "text": [
      "('ER:', 0.0, 0.7233333333333334, 0.044221663871405345)\n",
      "('ER:', 0.001, 0.72, 0.04136557881996952)\n",
      "('ER:', 0.002, 0.7033333333333333, 0.04876246279442597)\n",
      "('ER:', 0.003, 0.7166666666666666, 0.040824829046386304)\n",
      "('ER:', 0.004, 0.7166666666666666, 0.050552502960343665)\n",
      "('ER:', 0.005, 0.7133333333333333, 0.04396968652757641)\n",
      "('ER:', 0.01, 0.7166666666666666, 0.0447213595499958)\n",
      "('ER:', 0.02, 0.72, 0.03858612300930076)\n",
      "('ER:', 0.1, 0.73, 0.04521553322083515)\n",
      "('ER:', 0.2, 0.7033333333333334, 0.04642796092394706)\n"
     ]
    }
   ],
   "source": [
    "regu_list = [0.0,0.001,0.002,0.003,0.004,0.005,0.01,0.02,0.1,0.2]\n",
    "#regu = 0.003\n",
    "for regu in regu_list:\n",
    "    accuracy_mean,accuracy_std = expectation_reflection_inference(X,y,kf,regu)\n",
    "    print('ER:',regu,accuracy_mean,accuracy_std)"
   ]
  },
  {
   "cell_type": "code",
   "execution_count": 18,
   "metadata": {},
   "outputs": [
    {
     "data": {
      "text/plain": [
       "'\\n# normalize features\\nfrom sklearn.preprocessing import maxabs_scale\\nX1 = maxabs_scale(X)\\naccuracy_mean,accuracy_std = predict(X1,y,kf)\\nprint(accuracy_mean,accuracy_std)\\n'"
      ]
     },
     "execution_count": 18,
     "metadata": {},
     "output_type": "execute_result"
    }
   ],
   "source": [
    "\"\"\"\n",
    "# normalize features\n",
    "from sklearn.preprocessing import maxabs_scale\n",
    "X1 = maxabs_scale(X)\n",
    "accuracy_mean,accuracy_std = predict(X1,y,kf)\n",
    "print(accuracy_mean,accuracy_std)\n",
    "\"\"\""
   ]
  },
  {
   "cell_type": "code",
   "execution_count": 19,
   "metadata": {},
   "outputs": [
    {
     "data": {
      "text/plain": [
       "\"\\nfrom sklearn.preprocessing import PowerTransformer\\npt = PowerTransformer().fit(X)\\nPowerTransformer(copy=True, method='yeo-johnson', standardize=True)\\nX1 = pt.transform(X)\\naccuracy_mean,accuracy_std = predict(X1,y,kf)\\nprint(accuracy_mean,accuracy_std)\\n\""
      ]
     },
     "execution_count": 19,
     "metadata": {},
     "output_type": "execute_result"
    }
   ],
   "source": [
    "\"\"\"\n",
    "from sklearn.preprocessing import Normalizer\n",
    "\n",
    "transformer = Normalizer().fit(X)\n",
    "Normalizer(copy=True, norm='l2')\n",
    "X1 = transformer.transform(X)\n",
    "predict(X1,y)\n",
    "\"\"\"\n",
    "\"\"\"\n",
    "from sklearn.preprocessing import PowerTransformer\n",
    "pt = PowerTransformer().fit(X)\n",
    "PowerTransformer(copy=True, method='yeo-johnson', standardize=True)\n",
    "X1 = pt.transform(X)\n",
    "accuracy_mean,accuracy_std = predict(X1,y,kf)\n",
    "print(accuracy_mean,accuracy_std)\n",
    "\"\"\""
   ]
  }
 ],
 "metadata": {
  "kernelspec": {
   "display_name": "Python 2",
   "language": "python",
   "name": "python2"
  },
  "language_info": {
   "codemirror_mode": {
    "name": "ipython",
    "version": 2
   },
   "file_extension": ".py",
   "mimetype": "text/x-python",
   "name": "python",
   "nbconvert_exporter": "python",
   "pygments_lexer": "ipython2",
   "version": "2.7.16"
  }
 },
 "nbformat": 4,
 "nbformat_minor": 2
}
